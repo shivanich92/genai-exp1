{
  "nbformat": 4,
  "nbformat_minor": 0,
  "metadata": {
    "colab": {
      "provenance": []
    },
    "kernelspec": {
      "name": "python3",
      "display_name": "Python 3"
    },
    "language_info": {
      "name": "python"
    }
  },
  "cells": [
    {
      "cell_type": "code",
      "source": [
        "import numpy as np\n"
      ],
      "metadata": {
        "id": "QLXe_nHvvmgi"
      },
      "execution_count": 2,
      "outputs": []
    },
    {
      "cell_type": "code",
      "source": [
        "class NeuralNetwork:\n",
        "    def __init__(self, input_size, hidden_size, output_size):\n",
        "        # Initialize weights with random values\n",
        "        self.weights1 = np.random.randn(input_size, hidden_size)\n",
        "        self.weights2 = np.random.randn(hidden_size, output_size)\n",
        "\n",
        "    def forward(self, X):\n",
        "        # Forward propagation\n",
        "        self.z1 = np.dot(X, self.weights1)\n",
        "        self.a1 = self.sigmoid(self.z1)\n",
        "        self.z2 = np.dot(self.a1, self.weights2)\n",
        "        self.y_hat = self.sigmoid(self.z2)\n",
        "        return self.y_hat\n",
        "\n",
        "    def backward(self, X, y, y_hat, learning_rate):\n",
        "        # Backpropagation\n",
        "        delta2 = (y_hat - y) * self.sigmoid_derivative(self.z2)\n",
        "        delta1 = delta2.dot(self.weights2.T) * self.sigmoid_derivative(self.z1)\n",
        "        self.weights2 -= learning_rate * self.a1.T.dot(delta2)\n",
        "        self.weights1 -= learning_rate * X.T.dot(delta1)\n",
        "\n",
        "    def sigmoid(self, z):\n",
        "        return 1 / (1 + np.exp(-z))\n",
        "\n",
        "    def sigmoid_derivative(self, z):\n",
        "        return self.sigmoid(z) * (1 - self.sigmoid(z))\n"
      ],
      "metadata": {
        "id": "r4JftsFNvs_H"
      },
      "execution_count": 3,
      "outputs": []
    },
    {
      "cell_type": "code",
      "source": [
        "import pandas as pd\n",
        "\n",
        "# URL where the dataset is hosted\n",
        "url = \"https://raw.githubusercontent.com/selva86/datasets/master/BostonHousing.csv\"\n",
        "\n",
        "# Load dataset\n",
        "boston = pd.read_csv(url)\n",
        "\n",
        "# Separate features and target variable\n",
        "X = boston.drop(columns=[\"medv\"]).values\n",
        "y = boston[\"medv\"].values\n",
        "\n",
        "# Example train-test split and normalization\n",
        "from sklearn.model_selection import train_test_split\n",
        "from sklearn.preprocessing import StandardScaler\n",
        "\n",
        "X_train, X_test, y_train, y_test = train_test_split(X, y, test_size=0.2, random_state=42)\n",
        "\n",
        "scaler = StandardScaler()\n",
        "X_train = scaler.fit_transform(X_train)\n",
        "X_test = scaler.transform(X_test)\n"
      ],
      "metadata": {
        "id": "R3107PPxxKa5"
      },
      "execution_count": 14,
      "outputs": []
    },
    {
      "cell_type": "code",
      "source": [
        "# Define network parameters\n",
        "input_size = X_train.shape[1]  # Number of features\n",
        "hidden_size = 10                # Number of neurons in the hidden layer\n",
        "output_size = 1                 # Output size (1 for regression)\n",
        "learning_rate = 0.01            # Learning rate\n",
        "num_epochs = 1000               # Number of epochs\n",
        "\n",
        "# Initialize the neural network\n",
        "nn = NeuralNetwork(input_size, hidden_size, output_size)\n",
        "\n",
        "# Train the network\n",
        "for epoch in range(num_epochs):\n",
        "    epoch_loss = 0\n",
        "    for i in range(len(X_train)):\n",
        "        X = X_train[i].reshape(1, -1)\n",
        "        y = y_train[i]\n",
        "        y_hat = nn.forward(X)\n",
        "        nn.backward(X, y, y_hat, learning_rate)\n",
        "        epoch_loss += (y_hat - y) ** 2  # Accumulate loss for monitoring\n",
        "\n",
        "    # Print loss every 100 epochs\n",
        "    if (epoch + 1) % 100 == 0:\n",
        "        print(f'Epoch {epoch + 1}/{num_epochs}, Loss: {epoch_loss/len(X_train)}')\n"
      ],
      "metadata": {
        "colab": {
          "base_uri": "https://localhost:8080/"
        },
        "id": "g1vnQgazxXeB",
        "outputId": "c28c3169-f3a7-4209-c5c4-590ea942a584"
      },
      "execution_count": 16,
      "outputs": [
        {
          "output_type": "stream",
          "name": "stdout",
          "text": [
            "Epoch 100/1000, Loss: [[561.96467379]]\n",
            "Epoch 200/1000, Loss: [[561.96347994]]\n",
            "Epoch 300/1000, Loss: [[561.96308863]]\n",
            "Epoch 400/1000, Loss: [[561.96289475]]\n",
            "Epoch 500/1000, Loss: [[561.96277912]]\n",
            "Epoch 600/1000, Loss: [[561.9627024]]\n",
            "Epoch 700/1000, Loss: [[561.96264779]]\n",
            "Epoch 800/1000, Loss: [[561.96260696]]\n",
            "Epoch 900/1000, Loss: [[561.96257528]]\n",
            "Epoch 1000/1000, Loss: [[561.96255]]\n"
          ]
        }
      ]
    },
    {
      "cell_type": "code",
      "source": [
        "from sklearn.metrics import mean_squared_error\n",
        "\n",
        "# Make predictions on the test set\n",
        "predictions = np.array([nn.forward(x.reshape(1, -1)) for x in X_test]).flatten()\n",
        "\n",
        "# Calculate Mean Squared Error (MSE)\n",
        "mse = mean_squared_error(y_test, predictions)\n",
        "print(\"Mean Squared Error on Test Set:\", mse)\n"
      ],
      "metadata": {
        "colab": {
          "base_uri": "https://localhost:8080/"
        },
        "id": "IdOdFyMkxzFN",
        "outputId": "b3b5b008-6406-4ebb-9dc7-ace7dff3ea51"
      },
      "execution_count": 17,
      "outputs": [
        {
          "output_type": "stream",
          "name": "stdout",
          "text": [
            "Mean Squared Error on Test Set: 493.1017468866691\n"
          ]
        }
      ]
    },
    {
      "cell_type": "code",
      "source": [],
      "metadata": {
        "id": "dSw5avPyx3Cd"
      },
      "execution_count": null,
      "outputs": []
    }
  ]
}